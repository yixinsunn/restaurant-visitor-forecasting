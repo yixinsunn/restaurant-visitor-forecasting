{
 "cells": [
  {
   "cell_type": "code",
   "execution_count": 1,
   "metadata": {
    "collapsed": true
   },
   "outputs": [],
   "source": [
    "\"\"\"\n",
    "This script is used for competitions.\n",
    "It ensembles previous .csv submissions\n",
    "by averaging files, with a weight for each file.\n",
    "The average method can be either arithmeitc or geometric.\n",
    "\"\"\"\n",
    "\n",
    "import os, glob, re\n",
    "import numpy as np\n",
    "import pandas as pd"
   ]
  },
  {
   "cell_type": "code",
   "execution_count": 10,
   "metadata": {
    "collapsed": true
   },
   "outputs": [],
   "source": [
    "path = '../input'    # to be modified according to your directory, \n",
    "                     # e.g. set it os.getcwd() if .csv files are in current directory\n",
    "\n",
    "# load data into a dict, <(str)filename, dataframe>\n",
    "data = { f.split('/')[-1]: \\\n",
    "        pd.read_csv(f) for f in glob.glob(path + '/*.csv') }\n",
    "\n",
    "# an alternative option to read data, using regular expression\n",
    "#data = { re.search(r'([0-9A-Za-z._-]*?.csv)', f).group():\n",
    "#        pd.read_csv(f) for f in glob.glob(path + '/*.csv') }\n",
    "assert(len(data) > 0)\n",
    "print('Loaded files:', data.keys())"
   ]
  },
  {
   "cell_type": "code",
   "execution_count": 2,
   "metadata": {
    "collapsed": true
   },
   "outputs": [],
   "source": [
    "def ensemble(data, w, method='arithmetic'):\n",
    "    \"\"\"\n",
    "    @params: data: a dict of dataframes, <(str)filename: dataframe>\n",
    "             w: a dict of weights, <(str)filename: (float)weight>\n",
    "             method: either arithmetic mean or geometric mean.\n",
    "    @return: a new dataframe for submission\n",
    "    \"\"\"\n",
    "    columns = data[list(data.keys())[0]].columns\n",
    "    submission = pd.DataFrame({columns[0]: data[list(data.keys())[0]][columns[0]]})\n",
    "    assert(method in ['arithmetic', 'geometric'])\n",
    "    \n",
    "    if method == 'arithmetic':\n",
    "        submission[columns[1]] = 0.0\n",
    "        for key in data.keys():\n",
    "            submission[columns[1]] += data[key][columns[1]] * w[key]\n",
    "        submission[columns[1]] /= sum(w.values())\n",
    "    else:\n",
    "        submission[columns[1]] = 1.0\n",
    "        for key in data.keys():\n",
    "            submission[columns[1]] *= data[key][columns[1]] ** w[key]\n",
    "        submission[columns[1]] **= 1. / sum(w.values())\n",
    "    \n",
    "    return submission"
   ]
  },
  {
   "cell_type": "code",
   "execution_count": 3,
   "metadata": {},
   "outputs": [
    {
     "name": "stdout",
     "output_type": "stream",
     "text": [
      "Enter the weight for sub_xgb3.csv: 1\n",
      "Enter the weight for sub_xgb1.csv: 1\n",
      "Enter the weight for sub_xgb2.csv: 1.3\n",
      "Enter the weight for new_submission.csv: 2\n",
      "\n",
      "Weights for each file: {'sub_xgb3.csv': 1.0, 'sub_xgb1.csv': 1.0, 'sub_xgb2.csv': 1.3, 'new_submission.csv': 2.0}\n"
     ]
    }
   ],
   "source": [
    "# Enter weights here\n",
    "w = { key: 1 for key in data.keys() }\n",
    "for key in w:\n",
    "    w[key] = float(input(\"Enter the weight for {}: \".format(key)))\n",
    "\n",
    "print('\\nWeights for each file:', w)\n",
    "\n",
    "filename = 'new_submission.csv'\n",
    "new_submission = ensemble(data, w)\n",
    "new_submission.to_csv(filename, index=False)\n",
    "print('New submission file {} is now created'.format(filename))"
   ]
  }
 ],
 "metadata": {
  "kernelspec": {
   "display_name": "Python 3.5",
   "language": "python",
   "name": "python35"
  },
  "language_info": {
   "codemirror_mode": {
    "name": "ipython",
    "version": 3
   },
   "file_extension": ".py",
   "mimetype": "text/x-python",
   "name": "python",
   "nbconvert_exporter": "python",
   "pygments_lexer": "ipython3",
   "version": "3.5.4"
  }
 },
 "nbformat": 4,
 "nbformat_minor": 2
}
